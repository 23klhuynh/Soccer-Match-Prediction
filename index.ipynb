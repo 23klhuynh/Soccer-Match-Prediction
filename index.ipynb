{
 "cells": [
  {
   "cell_type": "code",
   "execution_count": 275,
   "metadata": {},
   "outputs": [],
   "source": [
    "import pandas as pd\n",
    "import numpy as np\n",
    "from sklearn.ensemble import RandomForestClassifier\n",
    "from sklearn.metrics import accuracy_score\n",
    "from sklearn.metrics import precision_score"
   ]
  },
  {
   "cell_type": "code",
   "execution_count": 276,
   "metadata": {},
   "outputs": [],
   "source": [
    "matches1 = pd.read_csv(\"assets/2022-2023.csv\")\n",
    "matches2 = pd.read_csv(\"assets/2023-2024.csv\")\n",
    "matches3 = pd.read_csv(\"assets/2024-2025.csv\")\n",
    "matches = pd.concat([matches1, matches2, matches3])"
   ]
  },
  {
   "cell_type": "code",
   "execution_count": 277,
   "metadata": {},
   "outputs": [
    {
     "name": "stderr",
     "output_type": "stream",
     "text": [
      "/var/folders/cn/j21vzthj6ds5gjqdtwlgj4f00000gn/T/ipykernel_1030/1605438902.py:1: UserWarning: Could not infer format, so each element will be parsed individually, falling back to `dateutil`. To ensure parsing is consistent and as-expected, please specify a format.\n",
      "  matches[\"Date Time (US Eastern)\"] = pd.to_datetime(matches[\"Date Time (US Eastern)\"])\n"
     ]
    },
    {
     "data": {
      "text/plain": [
       "' matches[\"Date (US Eastern)\"] = pd.to_datetime(matches[\"Date (US Eastern)\"])\\nmatches[\"Time (US Eastern)\"] = pd.to_datetime(matches[\"Time (US Eastern)\"]) '"
      ]
     },
     "execution_count": 277,
     "metadata": {},
     "output_type": "execute_result"
    }
   ],
   "source": [
    "matches[\"Date Time (US Eastern)\"] = pd.to_datetime(matches[\"Date Time (US Eastern)\"])\n",
    "\n",
    "\"\"\" matches[\"Date (US Eastern)\"] = pd.to_datetime(matches[\"Date (US Eastern)\"])\n",
    "matches[\"Time (US Eastern)\"] = pd.to_datetime(matches[\"Time (US Eastern)\"]) \"\"\""
   ]
  },
  {
   "cell_type": "code",
   "execution_count": 278,
   "metadata": {},
   "outputs": [],
   "source": [
    "#advantages and disadvantages to consider when teams play against each other\n",
    "\n",
    "matches[\"homeAway_code\"] = np.where(matches[\"Team\"] == matches[\"Home Team\"], 0, 1) \n",
    "#matches[\"homeAway\"].astype(\"category\").cat.codes\n",
    "\n",
    "matches[\"opponent_code\"] = np.where(\n",
    "    matches[\"Team\"] == matches[\"Home Team\"],\n",
    "    matches[\"Away Team\"].astype(\"category\").cat.codes,\n",
    "    matches[\"Home Team\"].astype(\"category\").cat.codes\n",
    ")\n",
    "#matches[\"hour\"] = matches[\"Date Time (US Eastern)\"].dt.hour.astype(\"Int64\")\n",
    "matches[\"day_code\"] = matches[\"Date Time (US Eastern)\"].dt.dayofweek\n",
    "matches[\"date\"] = matches[\"Date Time (US Eastern)\"].dt.date"
   ]
  },
  {
   "cell_type": "code",
   "execution_count": 279,
   "metadata": {},
   "outputs": [],
   "source": [
    "#determine the match result\n",
    "matches[\"target\"] = np.where(\n",
    "    matches[\"Home Goal\"] == matches[\"Away Goal\"], 2,  \n",
    "    np.where(\n",
    "        (matches[\"Home Goal\"] > matches[\"Away Goal\"]) & (matches[\"Team\"] == matches[\"Home Team\"]), 1,  \n",
    "        np.where(\n",
    "            (matches[\"Home Goal\"] > matches[\"Away Goal\"]) & (matches[\"Team\"] != matches[\"Home Team\"]), 0,  \n",
    "            np.where(\n",
    "                (matches[\"Home Goal\"] < matches[\"Away Goal\"]) & (matches[\"Team\"] == matches[\"Away Team\"]), 1,  \n",
    "                0  \n",
    "            )\n",
    "        )\n",
    "    )\n",
    ")"
   ]
  },
  {
   "cell_type": "code",
   "execution_count": 280,
   "metadata": {},
   "outputs": [],
   "source": [
    "#began using machine learning \n",
    "rf = RandomForestClassifier(n_estimators=50, min_samples_split=10, random_state=1)"
   ]
  },
  {
   "cell_type": "code",
   "execution_count": 281,
   "metadata": {},
   "outputs": [
    {
     "data": {
      "text/plain": [
       "' predictors = [   \\n    \"homeAway_code\", \"opponent_code\", \"day_code\", \\n    \"shotsOnTarget\", \"accuratePasses\", \"accurateCrosses\", \\n    \"accurateLongBalls\", \"blockedShots\", \"effectiveTackles\", \\n    \"effectiveClearance\",\"foulsCommitted\", \"saves\"\\n    ] '"
      ]
     },
     "execution_count": 281,
     "metadata": {},
     "output_type": "execute_result"
    }
   ],
   "source": [
    "\"\"\" predictors = [   \n",
    "    \"homeAway_code\", \"opponent_code\", \"day_code\", \n",
    "    \"shotsOnTarget\", \"accuratePasses\", \"accurateCrosses\", \n",
    "    \"accurateLongBalls\", \"blockedShots\", \"effectiveTackles\", \n",
    "    \"effectiveClearance\",\"foulsCommitted\", \"saves\"\n",
    "    ] \"\"\"\n",
    "#predictors = [\"homeAway_code\", \"opponent_code\", \"day_code\"]"
   ]
  },
  {
   "cell_type": "code",
   "execution_count": 282,
   "metadata": {},
   "outputs": [],
   "source": [
    "#train = matches[matches[\"Date Time (US Eastern)\"] <= '2024-05-01']"
   ]
  },
  {
   "cell_type": "code",
   "execution_count": 283,
   "metadata": {},
   "outputs": [],
   "source": [
    "#test = matches[matches[\"Date Time (US Eastern)\"] > '2024-05-01']"
   ]
  },
  {
   "cell_type": "code",
   "execution_count": 284,
   "metadata": {},
   "outputs": [],
   "source": [
    "#rf.fit(train[predictors], train[\"target\"])"
   ]
  },
  {
   "cell_type": "code",
   "execution_count": 285,
   "metadata": {},
   "outputs": [],
   "source": [
    "#preds = rf.predict(test[predictors])"
   ]
  },
  {
   "cell_type": "code",
   "execution_count": 286,
   "metadata": {},
   "outputs": [
    {
     "data": {
      "text/plain": [
       "' accuracy = accuracy_score(test[\"target\"], preds)\\naccuracy '"
      ]
     },
     "execution_count": 286,
     "metadata": {},
     "output_type": "execute_result"
    }
   ],
   "source": [
    "\"\"\" accuracy = accuracy_score(test[\"target\"], preds)\n",
    "accuracy \"\"\""
   ]
  },
  {
   "cell_type": "code",
   "execution_count": 287,
   "metadata": {},
   "outputs": [],
   "source": [
    "#combine = pd.DataFrame(dict(actual=test[\"target\"], prediction=preds))"
   ]
  },
  {
   "cell_type": "code",
   "execution_count": 288,
   "metadata": {},
   "outputs": [],
   "source": [
    "#pd.crosstab(index=combine[\"actual\"], columns=combine[\"prediction\"])"
   ]
  },
  {
   "cell_type": "code",
   "execution_count": 289,
   "metadata": {},
   "outputs": [],
   "source": [
    "#precision_score(test[\"target\"], preds, average='weighted', zero_division=0)"
   ]
  },
  {
   "cell_type": "code",
   "execution_count": 290,
   "metadata": {},
   "outputs": [
    {
     "data": {
      "text/plain": [
       "' group = grouped_matches.get_group(\"West Ham United\")\\ngroup '"
      ]
     },
     "execution_count": 290,
     "metadata": {},
     "output_type": "execute_result"
    }
   ],
   "source": [
    "#grouped_matches = matches.groupby(\"Team\")\n",
    "\"\"\" group = grouped_matches.get_group(\"West Ham United\")\n",
    "group \"\"\""
   ]
  },
  {
   "cell_type": "code",
   "execution_count": 291,
   "metadata": {},
   "outputs": [],
   "source": [
    "\"\"\" \n",
    "This function uses the stats from the previous 3 games \n",
    "to determine the team's condition and predict the next game. \n",
    "\"\"\"\n",
    "columns = [\"shotsOnTarget\", \"accuratePasses\", \"accurateCrosses\", \n",
    "    \"accurateLongBalls\", \"blockedShots\", \"effectiveTackles\", \n",
    "    \"effectiveClearance\",\"foulsCommitted\", \"saves\"]\n",
    "new_columns = [f\"{c}_rolling\" for c in columns]\n",
    "\n",
    "def rolling_averages(group, cols, new_cols):\n",
    "    group = group.sort_values(\"Date Time (US Eastern)\")\n",
    "    rolling_stats = group[cols].shift(1).rolling(window=3).mean()\n",
    "    for col, new_col in zip(cols, new_cols):\n",
    "            group[new_col] = rolling_stats[col]\n",
    "    group = group.dropna(subset=new_cols)\n",
    "    return group"
   ]
  },
  {
   "cell_type": "code",
   "execution_count": 292,
   "metadata": {},
   "outputs": [
    {
     "name": "stderr",
     "output_type": "stream",
     "text": [
      "/var/folders/cn/j21vzthj6ds5gjqdtwlgj4f00000gn/T/ipykernel_1030/1544277950.py:2: DeprecationWarning: DataFrameGroupBy.apply operated on the grouping columns. This behavior is deprecated, and in a future version of pandas the grouping columns will be excluded from the operation. Either pass `include_groups=False` to exclude the groupings or explicitly select the grouping columns after groupby to silence this warning.\n",
      "  matches_rolling = matches.groupby(\"Team\").apply(lambda x: rolling_averages(x, columns, new_columns))\n"
     ]
    }
   ],
   "source": [
    "\"\"\" rolling_averages(group, columns, new_columns) \"\"\"\n",
    "matches_rolling = matches.groupby(\"Team\").apply(lambda x: rolling_averages(x, columns, new_columns))\n",
    "matches_rolling.droplevel(\"Team\")\n",
    "matches_rolling = matches_rolling.reset_index(drop=True)\n",
    "matches_rolling.index = range(matches_rolling.shape[0])\n",
    "#matches_rolling"
   ]
  },
  {
   "cell_type": "code",
   "execution_count": 293,
   "metadata": {},
   "outputs": [
    {
     "data": {
      "text/plain": [
       "0.48771929824561405"
      ]
     },
     "execution_count": 293,
     "metadata": {},
     "output_type": "execute_result"
    }
   ],
   "source": [
    "\n",
    "# Define predictors\n",
    "predictors = [\"homeAway_code\", \"opponent_code\", \"day_code\"] + new_columns\n",
    "\n",
    "# Train-Test Split\n",
    "train = matches_rolling[matches_rolling[\"Date Time (US Eastern)\"] <= '2024-05-01']\n",
    "test = matches_rolling[matches_rolling[\"Date Time (US Eastern)\"] > '2024-05-01']\n",
    "\n",
    "# Train the Model\n",
    "rf.fit(train[predictors], train[\"target\"])\n",
    "\n",
    "# Make predictions\n",
    "preds = rf.predict(test[predictors])\n",
    "accuracy = accuracy_score(test[\"target\"], preds)\n",
    "accuracy"
   ]
  },
  {
   "cell_type": "code",
   "execution_count": 294,
   "metadata": {},
   "outputs": [],
   "source": [
    "def make_predictions(data, predictors):\n",
    "    train = data[data[\"Date Time (US Eastern)\"] <= '2024-05-01']\n",
    "    test = data[data[\"Date Time (US Eastern)\"] > '2024-05-01']\n",
    "    rf.fit(train[predictors], train[\"target\"])\n",
    "    preds = rf.predict(test[predictors])\n",
    "    combine = pd.DataFrame(dict(actual=test[\"target\"], prediction=preds), index=test.index)\n",
    "    precision = precision_score(test[\"target\"], preds, average='macro', zero_division=0)\n",
    "    return combine, precision"
   ]
  },
  {
   "cell_type": "code",
   "execution_count": 295,
   "metadata": {},
   "outputs": [
    {
     "data": {
      "text/html": [
       "<div>\n",
       "<style scoped>\n",
       "    .dataframe tbody tr th:only-of-type {\n",
       "        vertical-align: middle;\n",
       "    }\n",
       "\n",
       "    .dataframe tbody tr th {\n",
       "        vertical-align: top;\n",
       "    }\n",
       "\n",
       "    .dataframe thead th {\n",
       "        text-align: right;\n",
       "    }\n",
       "</style>\n",
       "<table border=\"1\" class=\"dataframe\">\n",
       "  <thead>\n",
       "    <tr style=\"text-align: right;\">\n",
       "      <th></th>\n",
       "      <th>actual</th>\n",
       "      <th>prediction</th>\n",
       "      <th>date</th>\n",
       "      <th>Team</th>\n",
       "      <th>Home Team</th>\n",
       "      <th>Away Team</th>\n",
       "      <th>target</th>\n",
       "    </tr>\n",
       "  </thead>\n",
       "  <tbody>\n",
       "    <tr>\n",
       "      <th>523</th>\n",
       "      <td>1</td>\n",
       "      <td>1</td>\n",
       "      <td>2024-05-02</td>\n",
       "      <td>Chelsea</td>\n",
       "      <td>Chelsea</td>\n",
       "      <td>Tottenham Hotspur</td>\n",
       "      <td>1</td>\n",
       "    </tr>\n",
       "    <tr>\n",
       "      <th>524</th>\n",
       "      <td>1</td>\n",
       "      <td>1</td>\n",
       "      <td>2024-05-05</td>\n",
       "      <td>Chelsea</td>\n",
       "      <td>Chelsea</td>\n",
       "      <td>West Ham United</td>\n",
       "      <td>1</td>\n",
       "    </tr>\n",
       "    <tr>\n",
       "      <th>525</th>\n",
       "      <td>1</td>\n",
       "      <td>1</td>\n",
       "      <td>2024-05-11</td>\n",
       "      <td>Chelsea</td>\n",
       "      <td>Nottingham Forest</td>\n",
       "      <td>Chelsea</td>\n",
       "      <td>1</td>\n",
       "    </tr>\n",
       "    <tr>\n",
       "      <th>526</th>\n",
       "      <td>1</td>\n",
       "      <td>1</td>\n",
       "      <td>2024-05-15</td>\n",
       "      <td>Chelsea</td>\n",
       "      <td>Brighton &amp; Hove Albion</td>\n",
       "      <td>Chelsea</td>\n",
       "      <td>1</td>\n",
       "    </tr>\n",
       "    <tr>\n",
       "      <th>527</th>\n",
       "      <td>1</td>\n",
       "      <td>1</td>\n",
       "      <td>2024-05-19</td>\n",
       "      <td>Chelsea</td>\n",
       "      <td>Chelsea</td>\n",
       "      <td>AFC Bournemouth</td>\n",
       "      <td>1</td>\n",
       "    </tr>\n",
       "    <tr>\n",
       "      <th>528</th>\n",
       "      <td>0</td>\n",
       "      <td>1</td>\n",
       "      <td>2024-08-18</td>\n",
       "      <td>Chelsea</td>\n",
       "      <td>Chelsea</td>\n",
       "      <td>Manchester City</td>\n",
       "      <td>0</td>\n",
       "    </tr>\n",
       "    <tr>\n",
       "      <th>529</th>\n",
       "      <td>1</td>\n",
       "      <td>1</td>\n",
       "      <td>2024-08-25</td>\n",
       "      <td>Chelsea</td>\n",
       "      <td>Wolverhampton Wanderers</td>\n",
       "      <td>Chelsea</td>\n",
       "      <td>1</td>\n",
       "    </tr>\n",
       "    <tr>\n",
       "      <th>530</th>\n",
       "      <td>2</td>\n",
       "      <td>2</td>\n",
       "      <td>2024-09-01</td>\n",
       "      <td>Chelsea</td>\n",
       "      <td>Chelsea</td>\n",
       "      <td>Crystal Palace</td>\n",
       "      <td>2</td>\n",
       "    </tr>\n",
       "    <tr>\n",
       "      <th>531</th>\n",
       "      <td>1</td>\n",
       "      <td>0</td>\n",
       "      <td>2024-09-14</td>\n",
       "      <td>Chelsea</td>\n",
       "      <td>AFC Bournemouth</td>\n",
       "      <td>Chelsea</td>\n",
       "      <td>1</td>\n",
       "    </tr>\n",
       "    <tr>\n",
       "      <th>532</th>\n",
       "      <td>1</td>\n",
       "      <td>1</td>\n",
       "      <td>2024-09-21</td>\n",
       "      <td>Chelsea</td>\n",
       "      <td>West Ham United</td>\n",
       "      <td>Chelsea</td>\n",
       "      <td>1</td>\n",
       "    </tr>\n",
       "    <tr>\n",
       "      <th>533</th>\n",
       "      <td>1</td>\n",
       "      <td>1</td>\n",
       "      <td>2024-09-28</td>\n",
       "      <td>Chelsea</td>\n",
       "      <td>Chelsea</td>\n",
       "      <td>Brighton &amp; Hove Albion</td>\n",
       "      <td>1</td>\n",
       "    </tr>\n",
       "    <tr>\n",
       "      <th>534</th>\n",
       "      <td>2</td>\n",
       "      <td>1</td>\n",
       "      <td>2024-10-06</td>\n",
       "      <td>Chelsea</td>\n",
       "      <td>Chelsea</td>\n",
       "      <td>Nottingham Forest</td>\n",
       "      <td>2</td>\n",
       "    </tr>\n",
       "    <tr>\n",
       "      <th>535</th>\n",
       "      <td>0</td>\n",
       "      <td>1</td>\n",
       "      <td>2024-10-20</td>\n",
       "      <td>Chelsea</td>\n",
       "      <td>Liverpool</td>\n",
       "      <td>Chelsea</td>\n",
       "      <td>0</td>\n",
       "    </tr>\n",
       "    <tr>\n",
       "      <th>536</th>\n",
       "      <td>1</td>\n",
       "      <td>1</td>\n",
       "      <td>2024-10-27</td>\n",
       "      <td>Chelsea</td>\n",
       "      <td>Chelsea</td>\n",
       "      <td>Newcastle United</td>\n",
       "      <td>1</td>\n",
       "    </tr>\n",
       "    <tr>\n",
       "      <th>537</th>\n",
       "      <td>2</td>\n",
       "      <td>1</td>\n",
       "      <td>2024-11-03</td>\n",
       "      <td>Chelsea</td>\n",
       "      <td>Manchester United</td>\n",
       "      <td>Chelsea</td>\n",
       "      <td>2</td>\n",
       "    </tr>\n",
       "    <tr>\n",
       "      <th>538</th>\n",
       "      <td>2</td>\n",
       "      <td>1</td>\n",
       "      <td>2024-11-10</td>\n",
       "      <td>Chelsea</td>\n",
       "      <td>Chelsea</td>\n",
       "      <td>Arsenal</td>\n",
       "      <td>2</td>\n",
       "    </tr>\n",
       "  </tbody>\n",
       "</table>\n",
       "</div>"
      ],
      "text/plain": [
       "     actual  prediction        date     Team                Home Team  \\\n",
       "523       1           1  2024-05-02  Chelsea                  Chelsea   \n",
       "524       1           1  2024-05-05  Chelsea                  Chelsea   \n",
       "525       1           1  2024-05-11  Chelsea        Nottingham Forest   \n",
       "526       1           1  2024-05-15  Chelsea   Brighton & Hove Albion   \n",
       "527       1           1  2024-05-19  Chelsea                  Chelsea   \n",
       "528       0           1  2024-08-18  Chelsea                  Chelsea   \n",
       "529       1           1  2024-08-25  Chelsea  Wolverhampton Wanderers   \n",
       "530       2           2  2024-09-01  Chelsea                  Chelsea   \n",
       "531       1           0  2024-09-14  Chelsea          AFC Bournemouth   \n",
       "532       1           1  2024-09-21  Chelsea          West Ham United   \n",
       "533       1           1  2024-09-28  Chelsea                  Chelsea   \n",
       "534       2           1  2024-10-06  Chelsea                  Chelsea   \n",
       "535       0           1  2024-10-20  Chelsea                Liverpool   \n",
       "536       1           1  2024-10-27  Chelsea                  Chelsea   \n",
       "537       2           1  2024-11-03  Chelsea        Manchester United   \n",
       "538       2           1  2024-11-10  Chelsea                  Chelsea   \n",
       "\n",
       "                  Away Team  target  \n",
       "523       Tottenham Hotspur       1  \n",
       "524         West Ham United       1  \n",
       "525                 Chelsea       1  \n",
       "526                 Chelsea       1  \n",
       "527         AFC Bournemouth       1  \n",
       "528         Manchester City       0  \n",
       "529                 Chelsea       1  \n",
       "530          Crystal Palace       2  \n",
       "531                 Chelsea       1  \n",
       "532                 Chelsea       1  \n",
       "533  Brighton & Hove Albion       1  \n",
       "534       Nottingham Forest       2  \n",
       "535                 Chelsea       0  \n",
       "536        Newcastle United       1  \n",
       "537                 Chelsea       2  \n",
       "538                 Arsenal       2  "
      ]
     },
     "execution_count": 295,
     "metadata": {},
     "output_type": "execute_result"
    }
   ],
   "source": [
    "combined, precision = make_predictions(matches_rolling, predictors + new_columns)\n",
    "combined = combined.merge(matches_rolling[[\"date\", \"Team\" ,\"Home Team\", \"Away Team\", \"target\"]], left_index=True, right_index=True)\n",
    "\n",
    "combined_liverpool = combined[combined[\"Team\"] == \"Chelsea\"]\n",
    "combined_liverpool\n",
    "\n"
   ]
  },
  {
   "cell_type": "code",
   "execution_count": 300,
   "metadata": {},
   "outputs": [],
   "source": [
    "def predict_next_match(home_team, away_team, date_time):\n",
    "\n",
    "    if home_team not in matches[\"Home Team\"].unique() or away_team not in matches[\"Home Team\"].unique():\n",
    "        print(\"error\")\n",
    "        return\n",
    "    \n",
    "    day_code = pd.to_datetime(date_time).dayofweek\n",
    "\n",
    "    homeAway_code = 0 if home_team == home_team else 1\n",
    "    opponent_code = matches[\"Home Team\"].astype(\"category\").cat.categories.get_loc(away_team)\n",
    "\n",
    "    rolling_values = [0] * len(new_columns) \n",
    "    match_data = pd.DataFrame([{\n",
    "        \"homeAway_code\": homeAway_code,\n",
    "        \"opponent_code\": opponent_code,\n",
    "        \"day_code\": day_code,\n",
    "        **{col: val for col, val in zip(new_columns, rolling_values)}\n",
    "    }])\n",
    "\n",
    "    match_data = match_data[predictors]\n",
    "    prediction = rf.predict(match_data)[0]\n",
    "\n",
    "    result = \"Win\" if prediction[0] == 1 else \"Loss\" if prediction[0] == 0 else \"Draw\"\n",
    "\n",
    "    print(f\"Prediction for {home_team} vs {away_team}: {result} for {home_team}\")\n",
    "        \n",
    "    \n"
   ]
  },
  {
   "cell_type": "code",
   "execution_count": 301,
   "metadata": {},
   "outputs": [
    {
     "ename": "ValueError",
     "evalue": "The feature names should match those that were passed during fit.\nFeature names must be in the same order as they were in fit.\n",
     "output_type": "error",
     "traceback": [
      "\u001b[0;31m---------------------------------------------------------------------------\u001b[0m",
      "\u001b[0;31mValueError\u001b[0m                                Traceback (most recent call last)",
      "Cell \u001b[0;32mIn[301], line 1\u001b[0m\n\u001b[0;32m----> 1\u001b[0m \u001b[43mpredict_next_match\u001b[49m\u001b[43m(\u001b[49m\u001b[38;5;124;43m\"\u001b[39;49m\u001b[38;5;124;43mChelsea\u001b[39;49m\u001b[38;5;124;43m\"\u001b[39;49m\u001b[43m,\u001b[49m\u001b[43m \u001b[49m\u001b[38;5;124;43m\"\u001b[39;49m\u001b[38;5;124;43mNewcastle United\u001b[39;49m\u001b[38;5;124;43m\"\u001b[39;49m\u001b[43m,\u001b[49m\u001b[43m \u001b[49m\u001b[38;5;124;43m\"\u001b[39;49m\u001b[38;5;124;43m2024-06-01 15:00\u001b[39;49m\u001b[38;5;124;43m\"\u001b[39;49m\u001b[43m)\u001b[49m\n",
      "Cell \u001b[0;32mIn[300], line 21\u001b[0m, in \u001b[0;36mpredict_next_match\u001b[0;34m(home_team, away_team, date_time)\u001b[0m\n\u001b[1;32m     13\u001b[0m match_data \u001b[38;5;241m=\u001b[39m pd\u001b[38;5;241m.\u001b[39mDataFrame([{\n\u001b[1;32m     14\u001b[0m     \u001b[38;5;124m\"\u001b[39m\u001b[38;5;124mhomeAway_code\u001b[39m\u001b[38;5;124m\"\u001b[39m: homeAway_code,\n\u001b[1;32m     15\u001b[0m     \u001b[38;5;124m\"\u001b[39m\u001b[38;5;124mopponent_code\u001b[39m\u001b[38;5;124m\"\u001b[39m: opponent_code,\n\u001b[1;32m     16\u001b[0m     \u001b[38;5;124m\"\u001b[39m\u001b[38;5;124mday_code\u001b[39m\u001b[38;5;124m\"\u001b[39m: day_code,\n\u001b[1;32m     17\u001b[0m     \u001b[38;5;241m*\u001b[39m\u001b[38;5;241m*\u001b[39m{col: val \u001b[38;5;28;01mfor\u001b[39;00m col, val \u001b[38;5;129;01min\u001b[39;00m \u001b[38;5;28mzip\u001b[39m(new_columns, rolling_values)}\n\u001b[1;32m     18\u001b[0m }])\n\u001b[1;32m     20\u001b[0m match_data \u001b[38;5;241m=\u001b[39m match_data[predictors]\n\u001b[0;32m---> 21\u001b[0m prediction \u001b[38;5;241m=\u001b[39m \u001b[43mrf\u001b[49m\u001b[38;5;241;43m.\u001b[39;49m\u001b[43mpredict\u001b[49m\u001b[43m(\u001b[49m\u001b[43mmatch_data\u001b[49m\u001b[43m)\u001b[49m[\u001b[38;5;241m0\u001b[39m]\n\u001b[1;32m     23\u001b[0m result \u001b[38;5;241m=\u001b[39m \u001b[38;5;124m\"\u001b[39m\u001b[38;5;124mWin\u001b[39m\u001b[38;5;124m\"\u001b[39m \u001b[38;5;28;01mif\u001b[39;00m prediction[\u001b[38;5;241m0\u001b[39m] \u001b[38;5;241m==\u001b[39m \u001b[38;5;241m1\u001b[39m \u001b[38;5;28;01melse\u001b[39;00m \u001b[38;5;124m\"\u001b[39m\u001b[38;5;124mLoss\u001b[39m\u001b[38;5;124m\"\u001b[39m \u001b[38;5;28;01mif\u001b[39;00m prediction[\u001b[38;5;241m0\u001b[39m] \u001b[38;5;241m==\u001b[39m \u001b[38;5;241m0\u001b[39m \u001b[38;5;28;01melse\u001b[39;00m \u001b[38;5;124m\"\u001b[39m\u001b[38;5;124mDraw\u001b[39m\u001b[38;5;124m\"\u001b[39m\n\u001b[1;32m     25\u001b[0m \u001b[38;5;28mprint\u001b[39m(\u001b[38;5;124mf\u001b[39m\u001b[38;5;124m\"\u001b[39m\u001b[38;5;124mPrediction for \u001b[39m\u001b[38;5;132;01m{\u001b[39;00mhome_team\u001b[38;5;132;01m}\u001b[39;00m\u001b[38;5;124m vs \u001b[39m\u001b[38;5;132;01m{\u001b[39;00maway_team\u001b[38;5;132;01m}\u001b[39;00m\u001b[38;5;124m: \u001b[39m\u001b[38;5;132;01m{\u001b[39;00mresult\u001b[38;5;132;01m}\u001b[39;00m\u001b[38;5;124m for \u001b[39m\u001b[38;5;132;01m{\u001b[39;00mhome_team\u001b[38;5;132;01m}\u001b[39;00m\u001b[38;5;124m\"\u001b[39m)\n",
      "File \u001b[0;32m~/Desktop/SoccerPrediction/soccer_env/lib/python3.11/site-packages/sklearn/ensemble/_forest.py:904\u001b[0m, in \u001b[0;36mForestClassifier.predict\u001b[0;34m(self, X)\u001b[0m\n\u001b[1;32m    883\u001b[0m \u001b[38;5;28;01mdef\u001b[39;00m \u001b[38;5;21mpredict\u001b[39m(\u001b[38;5;28mself\u001b[39m, X):\n\u001b[1;32m    884\u001b[0m \u001b[38;5;250m    \u001b[39m\u001b[38;5;124;03m\"\"\"\u001b[39;00m\n\u001b[1;32m    885\u001b[0m \u001b[38;5;124;03m    Predict class for X.\u001b[39;00m\n\u001b[1;32m    886\u001b[0m \n\u001b[0;32m   (...)\u001b[0m\n\u001b[1;32m    902\u001b[0m \u001b[38;5;124;03m        The predicted classes.\u001b[39;00m\n\u001b[1;32m    903\u001b[0m \u001b[38;5;124;03m    \"\"\"\u001b[39;00m\n\u001b[0;32m--> 904\u001b[0m     proba \u001b[38;5;241m=\u001b[39m \u001b[38;5;28;43mself\u001b[39;49m\u001b[38;5;241;43m.\u001b[39;49m\u001b[43mpredict_proba\u001b[49m\u001b[43m(\u001b[49m\u001b[43mX\u001b[49m\u001b[43m)\u001b[49m\n\u001b[1;32m    906\u001b[0m     \u001b[38;5;28;01mif\u001b[39;00m \u001b[38;5;28mself\u001b[39m\u001b[38;5;241m.\u001b[39mn_outputs_ \u001b[38;5;241m==\u001b[39m \u001b[38;5;241m1\u001b[39m:\n\u001b[1;32m    907\u001b[0m         \u001b[38;5;28;01mreturn\u001b[39;00m \u001b[38;5;28mself\u001b[39m\u001b[38;5;241m.\u001b[39mclasses_\u001b[38;5;241m.\u001b[39mtake(np\u001b[38;5;241m.\u001b[39margmax(proba, axis\u001b[38;5;241m=\u001b[39m\u001b[38;5;241m1\u001b[39m), axis\u001b[38;5;241m=\u001b[39m\u001b[38;5;241m0\u001b[39m)\n",
      "File \u001b[0;32m~/Desktop/SoccerPrediction/soccer_env/lib/python3.11/site-packages/sklearn/ensemble/_forest.py:946\u001b[0m, in \u001b[0;36mForestClassifier.predict_proba\u001b[0;34m(self, X)\u001b[0m\n\u001b[1;32m    944\u001b[0m check_is_fitted(\u001b[38;5;28mself\u001b[39m)\n\u001b[1;32m    945\u001b[0m \u001b[38;5;66;03m# Check data\u001b[39;00m\n\u001b[0;32m--> 946\u001b[0m X \u001b[38;5;241m=\u001b[39m \u001b[38;5;28;43mself\u001b[39;49m\u001b[38;5;241;43m.\u001b[39;49m\u001b[43m_validate_X_predict\u001b[49m\u001b[43m(\u001b[49m\u001b[43mX\u001b[49m\u001b[43m)\u001b[49m\n\u001b[1;32m    948\u001b[0m \u001b[38;5;66;03m# Assign chunk of trees to jobs\u001b[39;00m\n\u001b[1;32m    949\u001b[0m n_jobs, _, _ \u001b[38;5;241m=\u001b[39m _partition_estimators(\u001b[38;5;28mself\u001b[39m\u001b[38;5;241m.\u001b[39mn_estimators, \u001b[38;5;28mself\u001b[39m\u001b[38;5;241m.\u001b[39mn_jobs)\n",
      "File \u001b[0;32m~/Desktop/SoccerPrediction/soccer_env/lib/python3.11/site-packages/sklearn/ensemble/_forest.py:638\u001b[0m, in \u001b[0;36mBaseForest._validate_X_predict\u001b[0;34m(self, X)\u001b[0m\n\u001b[1;32m    635\u001b[0m \u001b[38;5;28;01melse\u001b[39;00m:\n\u001b[1;32m    636\u001b[0m     ensure_all_finite \u001b[38;5;241m=\u001b[39m \u001b[38;5;28;01mTrue\u001b[39;00m\n\u001b[0;32m--> 638\u001b[0m X \u001b[38;5;241m=\u001b[39m \u001b[43mvalidate_data\u001b[49m\u001b[43m(\u001b[49m\n\u001b[1;32m    639\u001b[0m \u001b[43m    \u001b[49m\u001b[38;5;28;43mself\u001b[39;49m\u001b[43m,\u001b[49m\n\u001b[1;32m    640\u001b[0m \u001b[43m    \u001b[49m\u001b[43mX\u001b[49m\u001b[43m,\u001b[49m\n\u001b[1;32m    641\u001b[0m \u001b[43m    \u001b[49m\u001b[43mdtype\u001b[49m\u001b[38;5;241;43m=\u001b[39;49m\u001b[43mDTYPE\u001b[49m\u001b[43m,\u001b[49m\n\u001b[1;32m    642\u001b[0m \u001b[43m    \u001b[49m\u001b[43maccept_sparse\u001b[49m\u001b[38;5;241;43m=\u001b[39;49m\u001b[38;5;124;43m\"\u001b[39;49m\u001b[38;5;124;43mcsr\u001b[39;49m\u001b[38;5;124;43m\"\u001b[39;49m\u001b[43m,\u001b[49m\n\u001b[1;32m    643\u001b[0m \u001b[43m    \u001b[49m\u001b[43mreset\u001b[49m\u001b[38;5;241;43m=\u001b[39;49m\u001b[38;5;28;43;01mFalse\u001b[39;49;00m\u001b[43m,\u001b[49m\n\u001b[1;32m    644\u001b[0m \u001b[43m    \u001b[49m\u001b[43mensure_all_finite\u001b[49m\u001b[38;5;241;43m=\u001b[39;49m\u001b[43mensure_all_finite\u001b[49m\u001b[43m,\u001b[49m\n\u001b[1;32m    645\u001b[0m \u001b[43m\u001b[49m\u001b[43m)\u001b[49m\n\u001b[1;32m    646\u001b[0m \u001b[38;5;28;01mif\u001b[39;00m issparse(X) \u001b[38;5;129;01mand\u001b[39;00m (X\u001b[38;5;241m.\u001b[39mindices\u001b[38;5;241m.\u001b[39mdtype \u001b[38;5;241m!=\u001b[39m np\u001b[38;5;241m.\u001b[39mintc \u001b[38;5;129;01mor\u001b[39;00m X\u001b[38;5;241m.\u001b[39mindptr\u001b[38;5;241m.\u001b[39mdtype \u001b[38;5;241m!=\u001b[39m np\u001b[38;5;241m.\u001b[39mintc):\n\u001b[1;32m    647\u001b[0m     \u001b[38;5;28;01mraise\u001b[39;00m \u001b[38;5;167;01mValueError\u001b[39;00m(\u001b[38;5;124m\"\u001b[39m\u001b[38;5;124mNo support for np.int64 index based sparse matrices\u001b[39m\u001b[38;5;124m\"\u001b[39m)\n",
      "File \u001b[0;32m~/Desktop/SoccerPrediction/soccer_env/lib/python3.11/site-packages/sklearn/utils/validation.py:2919\u001b[0m, in \u001b[0;36mvalidate_data\u001b[0;34m(_estimator, X, y, reset, validate_separately, skip_check_array, **check_params)\u001b[0m\n\u001b[1;32m   2835\u001b[0m \u001b[38;5;28;01mdef\u001b[39;00m \u001b[38;5;21mvalidate_data\u001b[39m(\n\u001b[1;32m   2836\u001b[0m     _estimator,\n\u001b[1;32m   2837\u001b[0m     \u001b[38;5;241m/\u001b[39m,\n\u001b[0;32m   (...)\u001b[0m\n\u001b[1;32m   2843\u001b[0m     \u001b[38;5;241m*\u001b[39m\u001b[38;5;241m*\u001b[39mcheck_params,\n\u001b[1;32m   2844\u001b[0m ):\n\u001b[1;32m   2845\u001b[0m \u001b[38;5;250m    \u001b[39m\u001b[38;5;124;03m\"\"\"Validate input data and set or check feature names and counts of the input.\u001b[39;00m\n\u001b[1;32m   2846\u001b[0m \n\u001b[1;32m   2847\u001b[0m \u001b[38;5;124;03m    This helper function should be used in an estimator that requires input\u001b[39;00m\n\u001b[0;32m   (...)\u001b[0m\n\u001b[1;32m   2917\u001b[0m \u001b[38;5;124;03m        validated.\u001b[39;00m\n\u001b[1;32m   2918\u001b[0m \u001b[38;5;124;03m    \"\"\"\u001b[39;00m\n\u001b[0;32m-> 2919\u001b[0m     \u001b[43m_check_feature_names\u001b[49m\u001b[43m(\u001b[49m\u001b[43m_estimator\u001b[49m\u001b[43m,\u001b[49m\u001b[43m \u001b[49m\u001b[43mX\u001b[49m\u001b[43m,\u001b[49m\u001b[43m \u001b[49m\u001b[43mreset\u001b[49m\u001b[38;5;241;43m=\u001b[39;49m\u001b[43mreset\u001b[49m\u001b[43m)\u001b[49m\n\u001b[1;32m   2920\u001b[0m     tags \u001b[38;5;241m=\u001b[39m get_tags(_estimator)\n\u001b[1;32m   2921\u001b[0m     \u001b[38;5;28;01mif\u001b[39;00m y \u001b[38;5;129;01mis\u001b[39;00m \u001b[38;5;28;01mNone\u001b[39;00m \u001b[38;5;129;01mand\u001b[39;00m tags\u001b[38;5;241m.\u001b[39mtarget_tags\u001b[38;5;241m.\u001b[39mrequired:\n",
      "File \u001b[0;32m~/Desktop/SoccerPrediction/soccer_env/lib/python3.11/site-packages/sklearn/utils/validation.py:2777\u001b[0m, in \u001b[0;36m_check_feature_names\u001b[0;34m(estimator, X, reset)\u001b[0m\n\u001b[1;32m   2774\u001b[0m \u001b[38;5;28;01mif\u001b[39;00m \u001b[38;5;129;01mnot\u001b[39;00m missing_names \u001b[38;5;129;01mand\u001b[39;00m \u001b[38;5;129;01mnot\u001b[39;00m unexpected_names:\n\u001b[1;32m   2775\u001b[0m     message \u001b[38;5;241m+\u001b[39m\u001b[38;5;241m=\u001b[39m \u001b[38;5;124m\"\u001b[39m\u001b[38;5;124mFeature names must be in the same order as they were in fit.\u001b[39m\u001b[38;5;130;01m\\n\u001b[39;00m\u001b[38;5;124m\"\u001b[39m\n\u001b[0;32m-> 2777\u001b[0m \u001b[38;5;28;01mraise\u001b[39;00m \u001b[38;5;167;01mValueError\u001b[39;00m(message)\n",
      "\u001b[0;31mValueError\u001b[0m: The feature names should match those that were passed during fit.\nFeature names must be in the same order as they were in fit.\n"
     ]
    }
   ],
   "source": [
    "predict_next_match(\"Chelsea\", \"Newcastle United\", \"2024-06-01 15:00\")\n"
   ]
  },
  {
   "cell_type": "code",
   "execution_count": null,
   "metadata": {},
   "outputs": [],
   "source": []
  }
 ],
 "metadata": {
  "kernelspec": {
   "display_name": "soccer_env",
   "language": "python",
   "name": "python3"
  },
  "language_info": {
   "codemirror_mode": {
    "name": "ipython",
    "version": 3
   },
   "file_extension": ".py",
   "mimetype": "text/x-python",
   "name": "python",
   "nbconvert_exporter": "python",
   "pygments_lexer": "ipython3",
   "version": "3.11.3"
  }
 },
 "nbformat": 4,
 "nbformat_minor": 2
}
