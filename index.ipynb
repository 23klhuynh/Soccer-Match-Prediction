{
 "cells": [
  {
   "cell_type": "code",
   "execution_count": 2,
   "metadata": {},
   "outputs": [],
   "source": [
    "import pandas as pd"
   ]
  },
  {
   "cell_type": "code",
   "execution_count": null,
   "metadata": {},
   "outputs": [],
   "source": [
    "matches = pd.read_csv(\"soccer-matches.csv\")\n",
    "matches.head()"
   ]
  },
  {
   "cell_type": "code",
   "execution_count": 31,
   "metadata": {},
   "outputs": [
    {
     "data": {
      "text/plain": [
       "' filtered_matches = matches[[\"Team\", \"Fixture\", \"Home Team\", \"Away Team\", \"Home Goal\", \"Away Goal\"]]\\nfiltered_matches.to_csv(\"filtered_soccer_matches.csv\", index=False) '"
      ]
     },
     "execution_count": 31,
     "metadata": {},
     "output_type": "execute_result"
    }
   ],
   "source": [
    "\"\"\" filtered_matches = matches[[\"Team\", \"Fixture\", \"Home Team\", \"Away Team\", \"Home Goal\", \"Away Goal\"]]\n",
    "filtered_matches.to_csv(\"filtered_soccer_matches.csv\", index=False) \"\"\""
   ]
  },
  {
   "cell_type": "code",
   "execution_count": null,
   "metadata": {},
   "outputs": [],
   "source": [
    "matches.shape\n",
    "matches[\"Team\"].value_counts()"
   ]
  },
  {
   "cell_type": "code",
   "execution_count": 43,
   "metadata": {},
   "outputs": [
    {
     "data": {
      "text/plain": [
       "Team                              object\n",
       "Date Time (US Eastern)    datetime64[ns]\n",
       "Fixture                           object\n",
       "Home Team                         object\n",
       "Home Goal                        float64\n",
       "Away Goal                        float64\n",
       "Away Team                         object\n",
       "homeAway                          object\n",
       "foulsCommitted                   float64\n",
       "yellowCards                      float64\n",
       "redCards                         float64\n",
       "offsides                         float64\n",
       "wonCorners                       float64\n",
       "saves                            float64\n",
       "possessionPct                    float64\n",
       "totalShots                       float64\n",
       "shotsOnTarget                    float64\n",
       "shotPct                          float64\n",
       "penaltyKickGoals                 float64\n",
       "penaltyKickShots                 float64\n",
       "accuratePasses                   float64\n",
       "totalPasses                      float64\n",
       "passPct                          float64\n",
       "accurateCrosses                  float64\n",
       "totalCrosses                     float64\n",
       "crossPct                         float64\n",
       "accurateLongBalls                float64\n",
       "totalLongBalls                   float64\n",
       "longballPct                      float64\n",
       "blockedShots                     float64\n",
       "effectiveTackles                 float64\n",
       "totalTackles                     float64\n",
       "tacklePct                        float64\n",
       "interceptions                    float64\n",
       "effectiveClearance               float64\n",
       "totalClearance                   float64\n",
       "updateTime                        object\n",
       "Unnamed: 37                      float64\n",
       "dtype: object"
      ]
     },
     "execution_count": 43,
     "metadata": {},
     "output_type": "execute_result"
    }
   ],
   "source": [
    "matches.dtypes"
   ]
  },
  {
   "cell_type": "code",
   "execution_count": 42,
   "metadata": {},
   "outputs": [],
   "source": [
    "matches[\"Date Time (US Eastern)\"] = pd.to_datetime(matches[\"Date Time (US Eastern)\"])"
   ]
  }
 ],
 "metadata": {
  "kernelspec": {
   "display_name": "soccer_env",
   "language": "python",
   "name": "python3"
  },
  "language_info": {
   "codemirror_mode": {
    "name": "ipython",
    "version": 3
   },
   "file_extension": ".py",
   "mimetype": "text/x-python",
   "name": "python",
   "nbconvert_exporter": "python",
   "pygments_lexer": "ipython3",
   "version": "3.11.3"
  }
 },
 "nbformat": 4,
 "nbformat_minor": 2
}
